{
 "cells": [
  {
   "cell_type": "markdown",
   "source": [
    "# Code to compare the performances of QMPc and QMPb"
   ],
   "metadata": {
    "collapsed": false,
    "pycharm": {
     "name": "#%% md\n"
    }
   }
  },
  {
   "cell_type": "code",
   "execution_count": 1,
   "outputs": [],
   "source": [
    "iterations = 5\n",
    "xi = 0.01\n",
    "kind_1 = 'QMPb'\n",
    "kind_2 = 'QMPc'\n",
    "step = 0.01\n",
    "size = 550"
   ],
   "metadata": {
    "collapsed": false,
    "pycharm": {
     "name": "#%%\n"
    }
   }
  },
  {
   "cell_type": "code",
   "execution_count": 2,
   "outputs": [
    {
     "data": {
      "text/plain": "['data_dump_0.01_QMPb.json',\n 'data_dump_0.02_QMPb.json',\n 'data_dump_0.03_QMPb.json',\n 'data_dump_0.04_QMPb.json',\n 'data_dump_0.05_QMPb.json',\n 'data_dump_0.01_QMPc.json',\n 'data_dump_0.02_QMPc.json',\n 'data_dump_0.03_QMPc.json',\n 'data_dump_0.04_QMPc.json',\n 'data_dump_0.05_QMPc.json']"
     },
     "execution_count": 2,
     "metadata": {},
     "output_type": "execute_result"
    }
   ],
   "source": [
    "names = list()\n",
    "errors_1 = list()\n",
    "errors_2 = list()\n",
    "for i in range(0, iterations, 1):\n",
    "    names.append('data_dump_' + \"{:.2f}\".format(xi) +'_'+ kind_1 + '.json')\n",
    "    errors_1.append(xi)\n",
    "    xi = xi + step\n",
    "xi = 0.01\n",
    "for i in range(0, iterations, 1):\n",
    "    names.append('data_dump_' + \"{:.2f}\".format(xi) +'_'+ kind_2 + '.json')\n",
    "    errors_2.append(xi+step/10)\n",
    "    xi = xi + step\n",
    "names"
   ],
   "metadata": {
    "collapsed": false,
    "pycharm": {
     "name": "#%%\n"
    }
   }
  },
  {
   "cell_type": "code",
   "execution_count": 3,
   "outputs": [],
   "source": [
    "import numpy as np\n",
    "import json\n",
    "\n",
    "data = []\n",
    "c_mean = []\n",
    "c_std = []\n",
    "q_mean = []\n",
    "q_std = []\n",
    "sim_mean = []\n",
    "sim_std = []\n",
    "\n",
    "for i in range(0, 2*iterations, 1):\n",
    "    with open(names[i]) as f:\n",
    "        data.append(json.load(f))\n",
    "\n",
    "    c = list()\n",
    "    q = list()\n",
    "    c = list(data[i][\"class_k\"])\n",
    "    q = list(data[i][\"quant_k\"])\n",
    "    c_mean_sub = []\n",
    "    c_std_sub = []\n",
    "    q_mean_sub = []\n",
    "    q_std_sub = []\n",
    "    sim_mean_sub = []\n",
    "    sim_std_sub = []\n",
    "\n",
    "    for j in range(0, len(c), 1):\n",
    "        c_mean_sub.append(np.mean(c[j]))\n",
    "        c_std_sub.append(np.std(c[j]))\n",
    "        q_mean_sub.append(np.mean(q[j]))\n",
    "        q_std_sub.append(np.std(q[j]))\n",
    "        sim_mean_sub.append(q_mean_sub[j]/c_mean_sub[j])\n",
    "        sim_std_sub.append(q_std_sub[j]/c_std_sub[j])\n",
    "\n",
    "    c_mean.append(c_mean_sub)\n",
    "    c_std.append(c_std_sub)\n",
    "    q_mean.append(q_mean_sub)\n",
    "    q_std.append(q_std_sub)\n",
    "    sim_mean.append(sim_mean_sub)\n",
    "    sim_std.append(sim_std_sub)\n"
   ],
   "metadata": {
    "collapsed": false,
    "pycharm": {
     "name": "#%%\n"
    }
   }
  },
  {
   "cell_type": "code",
   "execution_count": 4,
   "outputs": [
    {
     "data": {
      "text/plain": "[[15.59, 29.13, 42.2, 55.4, 68.8, 83.06, 95.1, 109.69, 123.87, 135.8],\n [15.66, 29.55, 42.35, 55.91, 67.58, 81.98, 94.05, 110.6, 123.03, 135.12],\n [16.16, 29.81, 42.77, 55.45, 69.3, 81.93, 95.03, 109.61, 122.09, 134.67],\n [16.01, 29.52, 42.32, 55.61, 67.79, 83.23, 95.27, 110.66, 123.5, 136.32],\n [16.23, 29.09, 42.49, 55.32, 67.78, 83.43, 95.72, 108.99, 123.34, 133.94],\n [15.56, 28.64, 42.05, 55.72, 68.08, 83.34, 95.39, 110.53, 123.63, 136.29],\n [15.82, 29.07, 42.13, 56.05, 68.23, 82.72, 95.33, 109.69, 123.2, 136.21],\n [15.74, 29.59, 42.24, 55.56, 68.66, 82.55, 95.44, 109.84, 122.52, 135.54],\n [15.93, 28.45, 42.41, 56.38, 68.66, 81.7, 96.29, 110.62, 123.04, 135.3],\n [15.94, 28.72, 42.52, 55.71, 68.78, 82.63, 95.08, 110.98, 123.29, 135.86]]"
     },
     "execution_count": 4,
     "metadata": {},
     "output_type": "execute_result"
    }
   ],
   "source": [
    "c_mean"
   ],
   "metadata": {
    "collapsed": false,
    "pycharm": {
     "name": "#%%\n"
    }
   }
  },
  {
   "cell_type": "code",
   "execution_count": 5,
   "outputs": [
    {
     "data": {
      "text/plain": "[[15.65, 29.13, 42.21, 55.09, 68.88, 83.27, 95.13, 109.69, 124.16, 135.85],\n [15.61, 29.47, 42.56, 55.65, 67.74, 81.93, 93.95, 110.44, 122.86, 135.77],\n [16.22, 29.81, 42.62, 55.67, 69.37, 82.33, 94.92, 110.04, 122.11, 135.15],\n [16.02, 29.55, 42.33, 55.82, 68.31, 83.74, 95.73, 110.3, 123.14, 136.53],\n [16.39, 29.08, 42.27, 55.44, 67.83, 83.73, 95.74, 109.01, 124.01, 135.17],\n [15.51, 28.7, 42.07, 55.53, 68.04, 83.08, 95.32, 110.06, 123.28, 135.66],\n [15.77, 28.99, 41.92, 55.84, 68.23, 82.61, 95.16, 109.09, 122.24, 135.35],\n [15.99, 29.69, 42.09, 54.22, 67.78, 81.49, 95.55, 109.25, 120.09, 134.54],\n [16.36, 28.14, 42.52, 55.52, 67.0, 80.48, 94.64, 107.71, 120.15, 132.2],\n [16.32, 29.06, 41.35, 55.19, 67.53, 79.61, 92.55, 106.32, 118.31, 130.13]]"
     },
     "execution_count": 5,
     "metadata": {},
     "output_type": "execute_result"
    }
   ],
   "source": [
    "q_mean"
   ],
   "metadata": {
    "collapsed": false,
    "pycharm": {
     "name": "#%%\n"
    }
   }
  },
  {
   "cell_type": "code",
   "execution_count": 6,
   "outputs": [
    {
     "data": {
      "text/plain": "[[1.0038486209108404,\n  1.0,\n  1.0002369668246445,\n  0.994404332129964,\n  1.0011627906976743,\n  1.0025282928003851,\n  1.0003154574132491,\n  1.0,\n  1.002341164123678,\n  1.0003681885125182],\n [0.9968071519795657,\n  0.9972927241962775,\n  1.0049586776859505,\n  0.9953496691110714,\n  1.0023675643681562,\n  0.9993900951451574,\n  0.9989367357788411,\n  0.9985533453887885,\n  0.9986182231975941,\n  1.0048105387803434],\n [1.0037128712871286,\n  1.0,\n  0.9964928688332942,\n  1.0039675383228133,\n  1.0010101010101011,\n  1.004882216526303,\n  0.9988424707986951,\n  1.0039229997263024,\n  1.0001638135801458,\n  1.003564268211183],\n [1.000624609618988,\n  1.0010162601626016,\n  1.0002362948960302,\n  1.0037762992267578,\n  1.0076707478979199,\n  1.006127598221795,\n  1.0048283824918653,\n  0.9967467919754203,\n  0.997085020242915,\n  1.0015404929577465],\n [1.0098582871226125,\n  0.9996562392574767,\n  0.9948223111320311,\n  1.002169197396963,\n  1.0007376807317792,\n  1.0035958288385471,\n  1.0002089427496865,\n  1.0001835030736765,\n  1.0054321388033078,\n  1.0091832163655368],\n [0.9967866323907455,\n  1.0020949720670391,\n  1.0004756242568371,\n  0.9965900933237617,\n  0.9994124559341951,\n  0.9968802495800335,\n  0.9992661704581193,\n  0.9957477607889261,\n  0.997168971932379,\n  0.9953775038520801],\n [0.9968394437420985,\n  0.9972480220158239,\n  0.9950154284357939,\n  0.9962533452274756,\n  1.0,\n  0.9986702127659575,\n  0.9982167208643659,\n  0.9945300392013858,\n  0.9922077922077921,\n  0.9936862198076498],\n [1.0158831003811943,\n  1.0033795201081448,\n  0.9964488636363636,\n  0.9758819294456443,\n  0.987183221672007,\n  0.9871592973955179,\n  1.0011525565800503,\n  0.9946285506190823,\n  0.9801665034280118,\n  0.992622104175889],\n [1.026993094789705,\n  0.989103690685413,\n  1.0025937278943646,\n  0.9847463639588506,\n  0.9758228954267405,\n  0.9850673194614443,\n  0.9828642642018901,\n  0.9736937262701139,\n  0.9765117035110533,\n  0.9770879526977087],\n [1.0238393977415308,\n  1.0118384401114207,\n  0.972483537158984,\n  0.9906659486627176,\n  0.9818261122419308,\n  0.963451530920973,\n  0.9733908287757678,\n  0.9580104523337537,\n  0.9596074296374402,\n  0.95782423082585]]"
     },
     "execution_count": 6,
     "metadata": {},
     "output_type": "execute_result"
    }
   ],
   "source": [
    "sim_mean"
   ],
   "metadata": {
    "collapsed": false,
    "pycharm": {
     "name": "#%%\n"
    }
   }
  },
  {
   "cell_type": "code",
   "execution_count": 7,
   "outputs": [],
   "source": [
    "similarities_1 = list()\n",
    "deviations_1 = list()\n",
    "for i in range(0, iterations, 1):\n",
    "    similarities_1.append(np.mean(sim_mean[i]))\n",
    "    deviations_1.append(np.std(sim_mean[i]))\n",
    "\n",
    "similarities_2 = list()\n",
    "deviations_2 = list()\n",
    "for i in range(iterations, 2*iterations, 1):\n",
    "    similarities_2.append(np.mean(sim_mean[i]))\n",
    "    deviations_2.append(np.std(sim_mean[i]))"
   ],
   "metadata": {
    "collapsed": false,
    "pycharm": {
     "name": "#%%\n"
    }
   }
  },
  {
   "cell_type": "code",
   "execution_count": 8,
   "outputs": [
    {
     "data": {
      "text/plain": "[0.011, 0.021, 0.031, 0.041, 0.051000000000000004]"
     },
     "execution_count": 8,
     "metadata": {},
     "output_type": "execute_result"
    }
   ],
   "source": [
    "errors_2"
   ],
   "metadata": {
    "collapsed": false,
    "pycharm": {
     "name": "#%%\n"
    }
   }
  },
  {
   "cell_type": "code",
   "execution_count": 9,
   "outputs": [
    {
     "data": {
      "text/plain": "<function matplotlib.pyplot.show(close=None, block=None)>"
     },
     "execution_count": 9,
     "metadata": {},
     "output_type": "execute_result"
    },
    {
     "data": {
      "text/plain": "<Figure size 640x480 with 1 Axes>",
      "image/png": "[encoded data removed]"
     },
     "metadata": {},
     "output_type": "display_data"
    }
   ],
   "source": [
    "from matplotlib import pyplot as plt\n",
    "\n",
    "plt.errorbar(errors_1, similarities_1, deviations_1, linestyle='none', marker=\"o\")\n",
    "plt.errorbar(errors_2, similarities_2, deviations_2, linestyle='none', marker=\"o\")\n",
    "plt.title(\"Q-MP, single error, comparison errors\")\n",
    "plt.xlabel(\"Error\")\n",
    "plt.ylabel(\"Similarity\")\n",
    "#img_name = 'ev_'+kind +'_' + \"{:.2f}\".format(xi)+'_' + \"{:.2f}\".format(step) +'_' + \"{:.2f}\".format(size) +'_' + \"{:.2f}\".format(iterations) + '.png'\n",
    "# 'ev_QOMP_0.01_0.01_550_5.png'\n",
    "#plt.savefig(img_name, bbox_inches='tight')\n",
    "plt.show"
   ],
   "metadata": {
    "collapsed": false,
    "pycharm": {
     "name": "#%%\n"
    }
   }
  },
  {
   "cell_type": "code",
   "execution_count": 10,
   "outputs": [],
   "source": [
    "runtime_b = data[1]['quant_runtime']\n",
    "runtime_c = data[iterations+1]['quant_runtime']"
   ],
   "metadata": {
    "collapsed": false,
    "pycharm": {
     "name": "#%%\n"
    }
   }
  },
  {
   "cell_type": "code",
   "execution_count": 11,
   "outputs": [],
   "source": [
    "quant_b_plt = list()\n",
    "for i in range(0, len(runtime_b), 1):\n",
    "    quant_b_plt.append(runtime_b[i][0])"
   ],
   "metadata": {
    "collapsed": false,
    "pycharm": {
     "name": "#%%\n"
    }
   }
  },
  {
   "cell_type": "code",
   "execution_count": 12,
   "outputs": [],
   "source": [
    "quant_c_plt = list()\n",
    "for i in range(0, len(runtime_c), 1):\n",
    "    quant_c_plt.append(runtime_c[i][0])"
   ],
   "metadata": {
    "collapsed": false,
    "pycharm": {
     "name": "#%%\n"
    }
   }
  },
  {
   "cell_type": "code",
   "execution_count": 13,
   "outputs": [
    {
     "data": {
      "text/plain": "<Figure size 640x480 with 1 Axes>",
      "image/png": "[encoded data removed]"
     },
     "metadata": {},
     "output_type": "display_data"
    }
   ],
   "source": [
    "from matplotlib import pyplot as plt\n",
    "\n",
    "# performano uguale perchè termine polilogaritmico è così alto che oscura la differenza da subito\n",
    "components = np.arange(50, size, 50)\n",
    "plt.plot(components, quant_b_plt, label=\"Single error\")\n",
    "plt.plot(components, quant_c_plt, label=\"Double error\")\n",
    "plt.title(\"Comparison runtime single and double error\")\n",
    "plt.xlabel(\"Number of signal components\")\n",
    "plt.ylabel(\"Runtime\")\n",
    "plt.legend()\n",
    "plt.show()"
   ],
   "metadata": {
    "collapsed": false,
    "pycharm": {
     "name": "#%%\n"
    }
   }
  }
 ],
 "metadata": {
  "kernelspec": {
   "display_name": "Python 3",
   "language": "python",
   "name": "python3"
  },
  "language_info": {
   "codemirror_mode": {
    "name": "ipython",
    "version": 2
   },
   "file_extension": ".py",
   "mimetype": "text/x-python",
   "name": "python",
   "nbconvert_exporter": "python",
   "pygments_lexer": "ipython2",
   "version": "2.7.6"
  }
 },
 "nbformat": 4,
 "nbformat_minor": 0
}