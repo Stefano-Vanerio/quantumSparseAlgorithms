{
 "cells": [
  {
   "cell_type": "markdown",
   "source": [
    "# Comparison on error variation on the experiments of Q-OMP, Q-MPb and Q-MPc"
   ],
   "metadata": {
    "collapsed": false,
    "pycharm": {
     "name": "#%% md\n"
    }
   }
  },
  {
   "cell_type": "markdown",
   "source": [
    "## Read Data from files"
   ],
   "metadata": {
    "collapsed": false,
    "pycharm": {
     "name": "#%% md\n"
    }
   }
  },
  {
   "cell_type": "code",
   "execution_count": 56,
   "outputs": [],
   "source": [
    "import numpy as np\n",
    "import json"
   ],
   "metadata": {
    "collapsed": false,
    "pycharm": {
     "name": "#%%\n"
    }
   }
  },
  {
   "cell_type": "code",
   "execution_count": 57,
   "outputs": [],
   "source": [
    "iterations = 5\n",
    "xi = 0.01\n",
    "kind = 'QMPc'\n",
    "step = 0.01\n",
    "size = 550"
   ],
   "metadata": {
    "collapsed": false,
    "pycharm": {
     "name": "#%%\n"
    }
   }
  },
  {
   "cell_type": "code",
   "execution_count": 58,
   "outputs": [
    {
     "data": {
      "text/plain": "['data_dump_0.01_QMPc.json',\n 'data_dump_0.02_QMPc.json',\n 'data_dump_0.03_QMPc.json',\n 'data_dump_0.04_QMPc.json',\n 'data_dump_0.05_QMPc.json']"
     },
     "execution_count": 58,
     "metadata": {},
     "output_type": "execute_result"
    }
   ],
   "source": [
    "names = list()\n",
    "errors = list()\n",
    "for i in range(0, iterations, 1):\n",
    "    names.append('data_dump_' + \"{:.2f}\".format(xi) +'_'+kind + '.json')\n",
    "    errors.append(xi)\n",
    "    xi = xi + step\n",
    "names"
   ],
   "metadata": {
    "collapsed": false,
    "pycharm": {
     "name": "#%%\n"
    }
   }
  },
  {
   "cell_type": "markdown",
   "source": [
    "## Computation of different metrics"
   ],
   "metadata": {
    "collapsed": false,
    "pycharm": {
     "name": "#%% md\n"
    }
   }
  },
  {
   "cell_type": "code",
   "execution_count": 59,
   "outputs": [],
   "source": [
    "data = []\n",
    "c_mean = []\n",
    "c_std = []\n",
    "q_mean = []\n",
    "q_std = []\n",
    "sim_mean = []\n",
    "sim_std = []\n",
    "\n",
    "for i in range(0, iterations, 1):\n",
    "    with open(names[i]) as f:\n",
    "        data.append(json.load(f))\n",
    "\n",
    "    c = list()\n",
    "    q = list()\n",
    "    c = list(data[i][\"class_k\"])\n",
    "    q = list(data[i][\"quant_k\"])\n",
    "    c_mean_sub = []\n",
    "    c_std_sub = []\n",
    "    q_mean_sub = []\n",
    "    q_std_sub = []\n",
    "    sim_mean_sub = []\n",
    "    sim_std_sub = []\n",
    "\n",
    "    for j in range(0, len(c), 1):\n",
    "        c_mean_sub.append(np.mean(c[j]))\n",
    "        c_std_sub.append(np.std(c[j]))\n",
    "        q_mean_sub.append(np.mean(q[j]))\n",
    "        q_std_sub.append(np.std(q[j]))\n",
    "        sim_mean_sub.append(q_mean_sub[j]/c_mean_sub[j])\n",
    "        sim_std_sub.append(q_std_sub[j]/c_std_sub[j])\n",
    "\n",
    "    c_mean.append(c_mean_sub)\n",
    "    c_std.append(c_std_sub)\n",
    "    q_mean.append(q_mean_sub)\n",
    "    q_std.append(q_std_sub)\n",
    "    sim_mean.append(sim_mean_sub)\n",
    "    sim_std.append(sim_std_sub)\n"
   ],
   "metadata": {
    "collapsed": false,
    "pycharm": {
     "name": "#%%\n"
    }
   }
  },
  {
   "cell_type": "code",
   "execution_count": 60,
   "outputs": [
    {
     "data": {
      "text/plain": "[[15.56, 28.64, 42.05, 55.72, 68.08, 83.34, 95.39, 110.53, 123.63, 136.29],\n [15.82, 29.07, 42.13, 56.05, 68.23, 82.72, 95.33, 109.69, 123.2, 136.21],\n [15.74, 29.59, 42.24, 55.56, 68.66, 82.55, 95.44, 109.84, 122.52, 135.54],\n [15.93, 28.45, 42.41, 56.38, 68.66, 81.7, 96.29, 110.62, 123.04, 135.3],\n [15.94, 28.72, 42.52, 55.71, 68.78, 82.63, 95.08, 110.98, 123.29, 135.86]]"
     },
     "execution_count": 60,
     "metadata": {},
     "output_type": "execute_result"
    }
   ],
   "source": [
    "c_mean"
   ],
   "metadata": {
    "collapsed": false,
    "pycharm": {
     "name": "#%%\n"
    }
   }
  },
  {
   "cell_type": "code",
   "execution_count": 61,
   "outputs": [
    {
     "data": {
      "text/plain": "[[15.51, 28.7, 42.07, 55.53, 68.04, 83.08, 95.32, 110.06, 123.28, 135.66],\n [15.77, 28.99, 41.92, 55.84, 68.23, 82.61, 95.16, 109.09, 122.24, 135.35],\n [15.99, 29.69, 42.09, 54.22, 67.78, 81.49, 95.55, 109.25, 120.09, 134.54],\n [16.36, 28.14, 42.52, 55.52, 67.0, 80.48, 94.64, 107.71, 120.15, 132.2],\n [16.32, 29.06, 41.35, 55.19, 67.53, 79.61, 92.55, 106.32, 118.31, 130.13]]"
     },
     "execution_count": 61,
     "metadata": {},
     "output_type": "execute_result"
    }
   ],
   "source": [
    "q_mean"
   ],
   "metadata": {
    "collapsed": false,
    "pycharm": {
     "name": "#%%\n"
    }
   }
  },
  {
   "cell_type": "markdown",
   "source": [
    "## Plot the results"
   ],
   "metadata": {
    "collapsed": false,
    "pycharm": {
     "name": "#%% md\n"
    }
   }
  },
  {
   "cell_type": "code",
   "execution_count": 62,
   "outputs": [],
   "source": [
    "similarities = list()\n",
    "deviations = list()\n",
    "for i in range(0, iterations, 1):\n",
    "    similarities.append(np.mean(sim_mean[i]))\n",
    "    deviations.append(np.std(sim_mean[i]))"
   ],
   "metadata": {
    "collapsed": false,
    "pycharm": {
     "name": "#%%\n"
    }
   }
  },
  {
   "cell_type": "code",
   "execution_count": 63,
   "outputs": [
    {
     "data": {
      "text/plain": "<function matplotlib.pyplot.show(close=None, block=None)>"
     },
     "execution_count": 63,
     "metadata": {},
     "output_type": "execute_result"
    },
    {
     "data": {
      "text/plain": "<Figure size 640x480 with 1 Axes>",
      "image/png": "[encoded data removed]"
     },
     "metadata": {},
     "output_type": "display_data"
    }
   ],
   "source": [
    "from matplotlib import pyplot as plt\n",
    "plt.errorbar(errors, similarities, deviations, linestyle='none', marker=\"o\")\n",
    "plt.title(\"Q-MP, comparison errors\")\n",
    "plt.xlabel(\"Error\")\n",
    "plt.ylabel(\"Similarity\")\n",
    "img_name = 'ev_'+kind +'_' + \"{:.2f}\".format(xi)+'_' + \"{:.2f}\".format(step) +'_' + \"{:.2f}\".format(size) +'_' + \"{:.2f}\".format(iterations) + '.png'\n",
    "# 'ev_QOMP_0.01_0.01_550_5.png'\n",
    "plt.savefig(img_name, bbox_inches='tight')\n",
    "plt.show"
   ],
   "metadata": {
    "collapsed": false,
    "pycharm": {
     "name": "#%%\n"
    }
   }
  },
  {
   "cell_type": "code",
   "execution_count": 64,
   "outputs": [
    {
     "data": {
      "text/plain": "array([ 50, 100, 150, 200, 250, 300, 350, 400, 450, 500])"
     },
     "execution_count": 64,
     "metadata": {},
     "output_type": "execute_result"
    }
   ],
   "source": [
    "components = np.arange(50, size, 50)\n",
    "components"
   ],
   "metadata": {
    "collapsed": false,
    "pycharm": {
     "name": "#%%\n"
    }
   }
  },
  {
   "cell_type": "code",
   "execution_count": 65,
   "outputs": [
    {
     "data": {
      "text/plain": "<function matplotlib.pyplot.show(close=None, block=None)>"
     },
     "execution_count": 65,
     "metadata": {},
     "output_type": "execute_result"
    },
    {
     "data": {
      "text/plain": "<Figure size 640x480 with 1 Axes>",
      "image/png": "[encoded data removed]"
     },
     "metadata": {},
     "output_type": "display_data"
    }
   ],
   "source": [
    "from matplotlib import pyplot as plt\n",
    "\n",
    "plt.errorbar(components, sim_mean[1],label='Value', linestyle='none', marker=\"o\")\n",
    "z = np.polyfit(components, sim_mean[1], 1)\n",
    "p = np.poly1d(z)\n",
    "plt.plot(components, p(components), label='Mean', linestyle='--')\n",
    "plt.title(\"Relationship between signal dimension and similarity\")\n",
    "plt.xlabel(\"Number of signal components\")\n",
    "plt.ylabel(\"Similarity\")\n",
    "img_name = 'dimdep_' + kind +'_' + \"{:.2f}\".format(xi) + '.png'\n",
    "# 'dimdep_QOMP_0.01.png'\n",
    "plt.savefig(img_name, bbox_inches='tight')\n",
    "plt.show"
   ],
   "metadata": {
    "collapsed": false,
    "pycharm": {
     "name": "#%%\n"
    }
   }
  },
  {
   "cell_type": "code",
   "execution_count": 66,
   "outputs": [
    {
     "data": {
      "text/plain": "ShapiroResult(statistic=0.9139184951782227, pvalue=0.3090057671070099)"
     },
     "execution_count": 66,
     "metadata": {},
     "output_type": "execute_result"
    }
   ],
   "source": [
    "import scipy as sc\n",
    "sc.stats.shapiro(sim_mean[0])"
   ],
   "metadata": {
    "collapsed": false,
    "pycharm": {
     "name": "#%%\n"
    }
   }
  }
 ],
 "metadata": {
  "kernelspec": {
   "display_name": "Python 3",
   "language": "python",
   "name": "python3"
  },
  "language_info": {
   "codemirror_mode": {
    "name": "ipython",
    "version": 2
   },
   "file_extension": ".py",
   "mimetype": "text/x-python",
   "name": "python",
   "nbconvert_exporter": "python",
   "pygments_lexer": "ipython2",
   "version": "2.7.6"
  }
 },
 "nbformat": 4,
 "nbformat_minor": 0
}