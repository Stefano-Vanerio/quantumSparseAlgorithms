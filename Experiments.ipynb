{
 "cells": [
  {
   "cell_type": "markdown",
   "source": [
    "# Running Time experiments for Q-MP, Q-OMPb, Q-MPc"
   ],
   "metadata": {
    "collapsed": false,
    "pycharm": {
     "name": "#%% md\n"
    }
   }
  },
  {
   "cell_type": "markdown",
   "source": [
    "## Read Data from files"
   ],
   "metadata": {
    "collapsed": false,
    "pycharm": {
     "name": "#%% md\n"
    }
   },
   "execution_count": 1
  },
  {
   "cell_type": "code",
   "execution_count": 116,
   "outputs": [],
   "source": [
    "file_name = 'data_dump_0.01_QMPb.json'\n",
    "size = 550"
   ],
   "metadata": {
    "collapsed": false,
    "pycharm": {
     "name": "#%%\n"
    }
   }
  },
  {
   "cell_type": "code",
   "execution_count": 117,
   "outputs": [],
   "source": [
    "import json\n",
    "import numpy as np\n",
    "\n",
    "with open(file_name) as f:\n",
    "    data = json.load(f)\n",
    "\n",
    "c = list(data[\"class_k\"])\n",
    "c_mean = list()\n",
    "c_std = list()\n",
    "q = list(data[\"quant_k\"])\n",
    "q_mean = list()\n",
    "q_std = list()\n",
    "sim_mean = list()\n",
    "sim_std = list()\n",
    "for i in range(0, len(c),1):\n",
    "    c_mean.append(np.mean(c[i]))\n",
    "    c_std.append(np.std(c[i]))\n",
    "    q_mean.append(np.mean(q[i]))\n",
    "    q_std.append(np.std(q[i]))\n",
    "    sim_mean.append(c_mean[i]/q_mean[i])\n",
    "    sim_std.append(c_std[i]/q_std[i])"
   ],
   "metadata": {
    "collapsed": false,
    "pycharm": {
     "name": "#%%\n"
    }
   }
  },
  {
   "cell_type": "code",
   "execution_count": 118,
   "outputs": [
    {
     "data": {
      "text/plain": "[15.59, 29.13, 42.2, 55.4, 68.8, 83.06, 95.1, 109.69, 123.87, 135.8]"
     },
     "execution_count": 118,
     "metadata": {},
     "output_type": "execute_result"
    }
   ],
   "source": [
    "c_mean"
   ],
   "metadata": {
    "collapsed": false,
    "pycharm": {
     "name": "#%%\n"
    }
   }
  },
  {
   "cell_type": "code",
   "execution_count": 119,
   "outputs": [
    {
     "data": {
      "text/plain": "[4.93982793222598,\n 6.231620976920853,\n 5.711392124517454,\n 8.264381404557755,\n 8.361817984146748,\n 8.69461902558128,\n 8.649277426467485,\n 12.540091706203746,\n 11.631556215743446,\n 11.385956261992225]"
     },
     "execution_count": 119,
     "metadata": {},
     "output_type": "execute_result"
    }
   ],
   "source": [
    "c_std"
   ],
   "metadata": {
    "collapsed": false,
    "pycharm": {
     "name": "#%%\n"
    }
   }
  },
  {
   "cell_type": "code",
   "execution_count": 120,
   "outputs": [
    {
     "data": {
      "text/plain": "[0.9961661341853035,\n 1.0,\n 0.9997630893153282,\n 1.0056271555636231,\n 0.9988385598141696,\n 0.997478083343341,\n 0.999684642068748,\n 1.0,\n 0.9976643041237114,\n 0.9996319470003682]"
     },
     "execution_count": 120,
     "metadata": {},
     "output_type": "execute_result"
    }
   ],
   "source": [
    "sim_mean"
   ],
   "metadata": {
    "collapsed": false,
    "pycharm": {
     "name": "#%%\n"
    }
   }
  },
  {
   "cell_type": "code",
   "execution_count": 121,
   "outputs": [
    {
     "data": {
      "text/plain": "[1.0254102207731788,\n 0.9903558634040486,\n 0.9855155542368625,\n 1.0403731462508823,\n 0.9811961673358057,\n 0.9818500543736753,\n 1.0036078554363423,\n 1.0156870890913003,\n 0.9599607949388426,\n 1.0311424746654532]"
     },
     "execution_count": 121,
     "metadata": {},
     "output_type": "execute_result"
    }
   ],
   "source": [
    "sim_std"
   ],
   "metadata": {
    "collapsed": false,
    "pycharm": {
     "name": "#%%\n"
    }
   }
  },
  {
   "cell_type": "code",
   "execution_count": 122,
   "outputs": [
    {
     "data": {
      "text/plain": "0.9994853915414593"
     },
     "execution_count": 122,
     "metadata": {},
     "output_type": "execute_result"
    }
   ],
   "source": [
    "np.mean(sim_mean)"
   ],
   "metadata": {
    "collapsed": false,
    "pycharm": {
     "name": "#%%\n"
    }
   }
  },
  {
   "cell_type": "code",
   "execution_count": 123,
   "outputs": [
    {
     "data": {
      "text/plain": "0.0023910397451539236"
     },
     "execution_count": 123,
     "metadata": {},
     "output_type": "execute_result"
    }
   ],
   "source": [
    "np.std(sim_mean)"
   ],
   "metadata": {
    "collapsed": false,
    "pycharm": {
     "name": "#%%\n"
    }
   }
  },
  {
   "cell_type": "code",
   "execution_count": 124,
   "outputs": [
    {
     "data": {
      "text/plain": "ShapiroResult(statistic=0.9885090589523315, pvalue=0.5464661717414856)"
     },
     "execution_count": 124,
     "metadata": {},
     "output_type": "execute_result"
    }
   ],
   "source": [
    "import scipy as sc\n",
    "sc.stats.shapiro(c[4])"
   ],
   "metadata": {
    "collapsed": false,
    "pycharm": {
     "name": "#%%\n"
    }
   }
  },
  {
   "cell_type": "code",
   "execution_count": 125,
   "outputs": [
    {
     "data": {
      "text/plain": "ShapiroResult(statistic=0.9881303906440735, pvalue=0.5178717374801636)"
     },
     "execution_count": 125,
     "metadata": {},
     "output_type": "execute_result"
    }
   ],
   "source": [
    "sc.stats.shapiro(q[4])"
   ],
   "metadata": {
    "collapsed": false,
    "pycharm": {
     "name": "#%%\n"
    }
   }
  },
  {
   "cell_type": "code",
   "execution_count": 126,
   "outputs": [
    {
     "data": {
      "text/plain": "ShapiroResult(statistic=0.8264694213867188, pvalue=0.030337443575263023)"
     },
     "execution_count": 126,
     "metadata": {},
     "output_type": "execute_result"
    }
   ],
   "source": [
    "sc.stats.shapiro(sim_mean)"
   ],
   "metadata": {
    "collapsed": false,
    "pycharm": {
     "name": "#%%\n"
    }
   }
  },
  {
   "cell_type": "code",
   "execution_count": 127,
   "outputs": [],
   "source": [
    "quant_run = data[\"quant_runtime\"]\n",
    "clas_run = data[\"class_runtime\"]"
   ],
   "metadata": {
    "collapsed": false,
    "pycharm": {
     "name": "#%%\n"
    }
   }
  },
  {
   "cell_type": "code",
   "execution_count": 128,
   "outputs": [
    {
     "data": {
      "text/plain": "[15790449113.574713,\n 109898362637.95604,\n 351170023028.0612,\n 772672184785.4683,\n 1481274929135.4197,\n 2525190577008.2173,\n 3777211680573.677,\n 5636861306854.048,\n 8024545446389.539,\n 10563334632708.0]"
     },
     "execution_count": 128,
     "metadata": {},
     "output_type": "execute_result"
    }
   ],
   "source": [
    "quant_plt = list()\n",
    "for i in range(0, len(quant_run), 1):\n",
    "    quant_plt.append(quant_run[i][0])\n",
    "quant_plt"
   ],
   "metadata": {
    "collapsed": false,
    "pycharm": {
     "name": "#%%\n"
    }
   }
  },
  {
   "cell_type": "code",
   "execution_count": 129,
   "outputs": [
    {
     "data": {
      "text/plain": "[77950.0,\n 582600.0,\n 1899000.0,\n 4432000.0,\n 8600000.0,\n 14950800.0,\n 23299500.0,\n 35100800.0,\n 50167350.0,\n 67900000.0]"
     },
     "execution_count": 129,
     "metadata": {},
     "output_type": "execute_result"
    }
   ],
   "source": [
    "class_plt = list()\n",
    "div=list()\n",
    "for i in range(0, len(clas_run), 1):\n",
    "    class_plt.append(clas_run[i][0])\n",
    "    div.append(quant_plt[i]/class_plt[i])\n",
    "class_plt"
   ],
   "metadata": {
    "collapsed": false,
    "pycharm": {
     "name": "#%%\n"
    }
   }
  },
  {
   "cell_type": "code",
   "execution_count": 130,
   "outputs": [
    {
     "data": {
      "text/plain": "<Figure size 640x480 with 1 Axes>",
      "image/png": "[encoded data removed]"
     },
     "metadata": {},
     "output_type": "display_data"
    }
   ],
   "source": [
    "from matplotlib import pyplot as plt\n",
    "\n",
    "components = np.arange(50, size, 50)\n",
    "plt.plot(components, quant_plt, label=\"quantum\")\n",
    "plt.plot(components, class_plt, label=\"classical\")\n",
    "plt.legend()\n",
    "plt.show()"
   ],
   "metadata": {
    "collapsed": false,
    "pycharm": {
     "name": "#%%\n"
    }
   }
  },
  {
   "cell_type": "code",
   "execution_count": 131,
   "outputs": [
    {
     "data": {
      "text/plain": "[202571.50883354346,\n 188634.33339848273,\n 184923.65614958463,\n 174339.3918739775,\n 172241.27082969996,\n 168900.0305674758,\n 162115.568169861,\n 160590.67904019417,\n 159955.53774296507,\n 155571.9386260383]"
     },
     "execution_count": 131,
     "metadata": {},
     "output_type": "execute_result"
    }
   ],
   "source": [
    "div"
   ],
   "metadata": {
    "collapsed": false,
    "pycharm": {
     "name": "#%%\n"
    }
   }
  },
  {
   "cell_type": "markdown",
   "source": [
    "### Estimated complexity with constants trends"
   ],
   "metadata": {
    "collapsed": false,
    "pycharm": {
     "name": "#%% md\n"
    }
   }
  },
  {
   "cell_type": "code",
   "execution_count": 132,
   "outputs": [],
   "source": [
    "f = 210000\n",
    "j = int((f/50)-1)\n",
    "n = np.arange(50, f, 50, dtype='int64')\n",
    "m = np.array(2*n, dtype='int64')\n",
    "k = np.array(n/3.7, dtype='int64')"
   ],
   "metadata": {
    "collapsed": false,
    "pycharm": {
     "name": "#%%\n"
    }
   }
  },
  {
   "cell_type": "code",
   "execution_count": 133,
   "outputs": [],
   "source": [
    "class_run_apx = list()\n",
    "for i in range(0, j, 1):\n",
    "    class_run_apx.append(n[i]*m[i]*k[i])"
   ],
   "metadata": {
    "collapsed": false,
    "pycharm": {
     "name": "#%%\n"
    }
   }
  },
  {
   "cell_type": "code",
   "execution_count": 134,
   "outputs": [
    {
     "data": {
      "text/plain": "[65000,\n 540000,\n 1800000,\n 4320000,\n 8375000,\n 14580000,\n 23030000,\n 34560000,\n 49005000,\n 67500000,\n 89540000,\n 116640000,\n 147875000,\n 185220000,\n 227250000,\n 276480000,\n 330905000,\n 393660000,\n 462080000,\n 540000000,\n 624015000,\n 718740000,\n 819950000,\n 933120000,\n 1053125000,\n 1186380000,\n 1326780000,\n 1481760000,\n 1644155000,\n 1822500000,\n 2008490000,\n 2211840000,\n 2423025000,\n 2653020000,\n 2891000000,\n 3149280000,\n 3422500000,\n 3703860000,\n 4007835000,\n 4320000000,\n 4656370000,\n 5000940000,\n 5371345000,\n 5749920000,\n 6156000000,\n 6570180000,\n 7013575000,\n 7464960000,\n 7947310000,\n 8437500000,\n 8960445000,\n 9491040000,\n 10056220000,\n 10628820000,\n 11237875000,\n 11854080000,\n 12508650000,\n 13170060000,\n 13871785000,\n 14580000000,\n 15330520000,\n 16087140000,\n 16888095000,\n 17694720000,\n 18547750000,\n 19405980000,\n 20312725000,\n 21224160000,\n 22186260000,\n 23152500000,\n 24171595000,\n 25194240000,\n 26271970000,\n 27380000000,\n 28490625000,\n 29659760000,\n 30830800000,\n 32062680000,\n 33295735000,\n 34592000000,\n 35888670000,\n 37250960000,\n 38612845000,\n 40042800000,\n 41471500000,\n 42970760000,\n 44467875000,\n 46038080000,\n 47605210000,\n 49248000000,\n 50886745000,\n 52603760000,\n 54315720000,\n 56108600000,\n 57895375000,\n 59765760000,\n 61628950000,\n 63578480000,\n 65519685000,\n 67550000000,\n 69570820000,\n 71683560000,\n 73785595000,\n 75982400000,\n 78167250000,\n 80449760000,\n 82719025000,\n 85088880000,\n 87444160000,\n 89903000000,\n 92407500000,\n 94895360000,\n 97491315000,\n 100069200000,\n 102758250000,\n 105427760000,\n 108211545000,\n 110974280000,\n 113854440000,\n 116712000000,\n 119690175000,\n 122644160000,\n 125721990000,\n 128774000000,\n 131953125000,\n 135104760000,\n 138386820000,\n 141639680000,\n 145026315000,\n 148382000000,\n 151874850000,\n 155334960000,\n 158935665000,\n 162501800000,\n 166212000000,\n 169885760000,\n 173707095000,\n 177490080000,\n 181424190000,\n 185318000000,\n 189366525000,\n 193372760000,\n 197537340000,\n 201657600000,\n 205939875000,\n 210175760000,\n 214577370000,\n 219040000000,\n 223453065000,\n 228037500000,\n 232570200000,\n 237278080000,\n 241932015000,\n 246764980000,\n 251541750000,\n 256501440000,\n 261402645000,\n 266490700000,\n 271517940000,\n 276736000000,\n 281890875000,\n 287240580000,\n 292524690000,\n 298007680000,\n 303422625000,\n 309040540000,\n 314587920000,\n 320342400000,\n 326023815000,\n 331916500000,\n 337733550000,\n 343766080000,\n 349720365000,\n 355894380000,\n 361987500000,\n 368304640000,\n 374538195000,\n 381000100000,\n 387375690000,\n 393984000000,\n 400503225000,\n 407259580000,\n 413924040000,\n 420830080000,\n 427812500000,\n 434698740000,\n 441833315000,\n 448868800000,\n 456157170000,\n 463343500000,\n 470787305000,\n 478126080000,\n 485726960000,\n 493219780000,\n 500979375000,\n 508627840000,\n 516547790000,\n 524353500000,\n 532435445000,\n 540400000000,\n 548645580000,\n 556770580000,\n 565181435000,\n 573468480000,\n 582046250000,\n 590496940000,\n 599243265000,\n 607859200000,\n 616775720000,\n 625558500000,\n 634646855000,\n 643598080000,\n 652859910000,\n 661981180000,\n 671418125000,\n 680711040000,\n 690324740000,\n 699790900000,\n 709582995000,\n 719224000000,\n 729196130000,\n 739260000000,\n 749167385000,\n 759413760000,\n 769500000000,\n 779930520000,\n 790197215000,\n 800813520000,\n 811262270000,\n 822066000000,\n 832698405000,\n 843691200000,\n 854508860000,\n 865692360000,\n 876696875000,\n 888072720000,\n 899265690000,\n 910835520000,\n 922218545000,\n 933984000000,\n 945558680000,\n 957521400000,\n 969289335000,\n 981450960000,\n 993413750000,\n 1005775920000,\n 1017935165000,\n 1030499520000,\n 1042856820000,\n 1055625000000,\n 1068181955000,\n 1081155600000,\n 1093913810000,\n 1107094560000,\n 1120055625000,\n 1133445120000,\n 1146610640000,\n 1160210520000,\n 1173917500000,\n 1187394000000,\n 1201313835000,\n 1214998800000,\n 1229133130000,\n 1243028160000,\n 1257378625000,\n 1271485320000,\n 1286053560000,\n 1300373520000,\n 1315161175000,\n 1329696000000,\n 1344704710000,\n 1359456000000,\n 1374687405000,\n 1389656760000,\n 1405112500000,\n 1420301520000,\n 1435983235000,\n 1451393520000,\n 1467302850000,\n 1482936000000,\n 1499074585000,\n 1514932200000,\n 1531301680000,\n 1547385360000,\n 1563987375000,\n 1580298720000,\n 1597134910000,\n 1613675520000,\n 1630747525000,\n 1647519000000,\n 1664828460000,\n 1681832400000,\n 1699380955000,\n 1716618960000,\n 1734408250000,\n 1752320000000,\n 1769913585000,\n 1788068540000,\n 1805900200000,\n 1824300000000,\n 1842371335000,\n 1861017620000,\n 1879330230000,\n 1898224640000,\n 1916780125000,\n 1935924300000,\n 1954724260000,\n 1974119840000,\n 1993165875000,\n 2012814500000,\n 2032108210000,\n 2052011520000,\n 2071554505000,\n 2091714140000,\n 2111508000000,\n 2131925600000,\n 2151971935000,\n 2172649140000,\n 2192949550000,\n 2213888000000,\n 2234444085000,\n 2255645420000,\n 2276458780000,\n 2297924640000,\n 2318996875000,\n 2340728900000,\n 2362061610000,\n 2384061440000,\n 2405656225000,\n 2427925500000,\n 2449783960000,\n 2472324320000,\n 2495002500000,\n 2517261140000,\n 2540212875000,\n 2562739200000,\n 2585966130000,\n 2608761740000,\n 2632265505000,\n 2655332000000,\n 2679114240000,\n 2702453220000,\n 2726515575000,\n 2750128640000,\n 2774472750000,\n 2798361500000,\n 2822989005000,\n 2847155040000,\n 2872067580000,\n 2896512500000,\n 2921711715000,\n 2946437120000,\n 2971924650000,\n 2996932140000,\n 3022709625000,\n 3048000800000,\n 3074069880000,\n 3099646340000,\n 3126008655000,\n 3151872000000,\n 3178529190000,\n 3204681020000,\n 3231634725000,\n 3258076640000,\n 3285328500000,\n 3312062100000,\n 3339613755000,\n 3366640640000,\n 3394493730000,\n 3422500000000,\n 3449971665000,\n 3478281840000,\n 3506050800000,\n 3534666520000,\n 3562734375000,\n 3591657280000,\n 3620025630000,\n 3649257360000,\n 3677927805000,\n 3707470000000,\n 3736444140000,\n 3766298440000,\n 3795577875000,\n 3825745920000,\n 3855332250000,\n 3885815680000,\n 3915710505000,\n 3946510960000,\n 3976715880000,\n 4007835000000,\n 4038351615000,\n 4069791040000,\n 4100620950000,\n 4132382320000,\n 4163527125000,\n 4195612080000,\n 4227073380000,\n 4259483560000,\n 4291262955000,\n 4324000000000,\n 4356099090000,\n 4389164640000,\n 4421585025000,\n 4454980720000,\n 4487724000000,\n 4521451480000,\n 4555347500000,\n 4588580160000,\n 4622810435000,\n 4656370000000,\n 4690936170000,\n 4724824240000,\n 4759727945000,\n 4793946120000,\n 4829189000000,\n 4863738880000,\n 4899322575000,\n 4934205760000,\n 4970131910000,\n 5005350000000,\n 5041620245000,\n 5077174840000,\n 5113790820000,\n 5149683520000,\n 5186646875000,\n 5222879280000,\n 5260191650000,\n 5296765360000,\n 5334428385000,\n 5371345000000,\n 5409360320000,\n 5446621440000,\n 5484990695000,\n 5522597920000,\n 5561322750000,\n 5599277680000,\n 5638359725000,\n 5676663960000,\n 5716104860000,\n 5754760000000,\n 5794561395000,\n 5833569040000,\n 5873732570000,\n 5914080000000,\n 5953621625000,\n 5994333660000,\n 6034231800000,\n 6075310080000,\n 6115566335000,\n 6157012500000,\n 6197628470000,\n 6239444160000,\n 6280421445000,\n 6322608300000,\n 6363948500000,\n 6406508160000,\n 6448212875000,\n 6491146980000,\n 6533217810000,\n 6576528000000,\n 6618966545000,\n 6662654460000,\n 6705462320000,\n 6749529600000,\n 6792708375000,\n 6837156660000,\n 6880707950000,\n 6925538880000,\n 6969464285000,\n 7014679500000,\n 7058980620000,\n 7104581760000,\n 7149260195000,\n 7195248900000,\n 7240306250000,\n 7286684160000,\n 7332122025000,\n 7378890780000,\n 7424710760000,\n 7471872000000,\n 7519232500000,\n 7565631060000,\n 7613386515000,\n 7660171200000,\n 7708323250000,\n 7755495660000,\n 7804045945000,\n 7851607680000,\n 7900557840000,\n 7948510500000,\n 7997862175000,\n 8046207360000,\n 8095962190000,\n 8144701500000,\n 8194861125000,\n 8243996160000,\n 8294562220000,\n 8344094580000,\n 8395068715000,\n 8445000000000,\n 8496383850000,\n 8546715660000,\n 8598510865000,\n 8649244800000,\n 8701453000000,\n 8752590660000,\n 8805213495000,\n 8856756480000,\n 8909795590000,\n 8961745500000,\n 9015202525000,\n 9067560960000,\n 9121437540000,\n 9174206100000,\n 9228503875000,\n 9281684160000,\n 9336404770000,\n 9391340000000,\n 9445143465000,\n 9500504000000,\n 9554723200000,\n 9610510680000,\n 9665147215000,\n 9721363280000,\n 9776418750000,\n 9833065040000,\n 9888541045000,\n 9945619200000,\n 10001517340000,\n 10059029000000,\n 10115350875000,\n 10173297680000,\n 10230044890000,\n 10288428480000,\n 10345602625000,\n 10404424640000,\n 10462027320000,\n 10521289400000,\n 10579322215000,\n 10639026000000,\n 10697490550000,\n 10757637680000,\n 10816535565000,\n 10877127680000,\n 10936460500000,\n 10997499240000,\n 11057268595000,\n 11118755600000,\n 11178963090000,\n 11240900000000,\n 11301547225000,\n 11363935680000,\n 11425024240000,\n 11487865880000,\n 11550937500000,\n 11612693840000,\n 11676221115000,\n 11738422800000,\n 11802407370000,\n 11865056000000,\n 11929499505000,\n 11992596680000,\n 12057500760000,\n 12121048080000,\n 12186414375000,\n 12250413440000,\n 12316243590000,\n 12380696000000,\n 12446991645000,\n 12511899000000,\n 12578661780000,\n 12644025680000,\n 12711257235000,\n 12777079280000,\n 12844781250000,\n 12911063040000,\n 12979237065000,\n 13045980200000,\n 13114627920000,\n 13181834000000,\n 13250957055000,\n 13318627680000,\n 13388227710000,\n 13456364480000,\n 13526443125000,\n 13595047640000,\n 13665606540000,\n 13734680400000,\n 13805721195000,\n 13875266000000,\n 13946790330000,\n 14018560000000,\n 14088817185000,\n 14161072860000,\n 14231805000000,\n 14304548320000,\n 14375757015000,\n 14448989620000,\n 14520676470000,\n 14594400000000,\n 14666566605000,\n 14740782700000,\n 14813430660000,\n 14888140960000,\n 14961271875000,\n 15036478020000,\n 15110093490000,\n 15185797120000,\n 15259898745000,\n 15336101500000,\n 15410690880000,\n 15487394400000,\n 15562473135000,\n 15639679060000,\n 15715248750000,\n 15792958720000,\n 15869020965000,\n 15947236620000,\n 16023793020000,\n 16102516000000,\n 16179568155000,\n 16258800100000,\n 16336349610000,\n 16416092160000,\n 16494140625000,\n 16574395420000,\n 16652944440000,\n 16733713120000,\n 16814742500000,\n 16894048500000,\n 16975594235000,\n 17055404800000,\n 17137468530000,\n 17217785260000,\n 17300368625000,\n 17381193120000,\n 17464297760000,\n 17545631620000,\n 17629259175000,\n 17711104000000,\n 17795256110000,\n 17877613500000,\n 17962291805000,\n 18045163360000,\n 18130369500000,\n 18213756820000,\n 18299492435000,\n 18383397120000,\n 18469663850000,\n 18554087500000,\n 18640886985000,\n 18725831200000,\n 18813165080000,\n 18898631460000,\n 18986501375000,\n 19072491520000,\n 19160899110000,\n 19247414620000,\n 19336361525000,\n 19423404000000,\n 19512891860000,\n 19600462900000,\n 19690493355000,\n 19778594560000,\n 19869169250000,\n 19960020000000,\n 20048922785000,\n 20140320240000,\n 20229757200000,\n 20321703000000,\n 20411675735000,\n 20504171520000,\n 20594681630000,\n 20687729040000,\n 20778778125000,\n 20872378800000,\n 20963968460000,\n 21058124040000,\n 21150255875000,\n 21244968000000,\n 21337643610000,\n 21432913920000,\n 21526134905000,\n 21621965040000,\n 21715733000000,\n 21812124600000,\n 21906441135000,\n 22003395840000,\n 22098262550000,\n 22195782000000,\n 22291200485000,\n 22389286320000,\n 22485258180000,\n 22583912040000,\n 22680438875000,\n 22779662400000,\n 22876745810000,\n 22976540640000,\n 23074182225000,\n 23174550000000,\n 23272751360000,\n 23373693720000,\n 23474927500000,\n 23573975040000,\n 23675785875000,\n 23775397200000,\n 23877786730000,\n 23977963440000,\n 24080933305000,\n 24181677000000,\n 24285228840000,\n 24386541120000,\n 24490676575000,\n 24592559040000,\n 24697279750000,\n 24799734000000,\n 24905041605000,\n 25008069240000,\n 25113965380000,\n 25217568000000,\n 25324054315000,\n 25428233520000,\n 25535311650000,\n 25640069040000,\n 25747740625000,\n 25853077800000,\n 25961344480000,\n 26067263040000,\n 26176126455000,\n 26282628000000,\n 26392089790000,\n 26499175920000,\n 26609237725000,\n 26716910040000,\n 26827573500000,\n 26935833600000,\n 27047100355000,\n 27155949840000,\n 27267821530000,\n 27380000000000,\n 27489740265000,\n 27602526140000,\n 27712859800000,\n 27826254720000,\n 27937183375000,\n 28051188980000,\n 28162714230000,\n 28277332160000,\n 28389455605000,\n 28504687500000,\n 28617410740000,\n 28733258240000,\n 28846582875000,\n 28963047620000,\n 29076975250000,\n 29194058880000,\n 29308591105000,\n 29426295260000,\n 29541433680000,\n 29659760000000,\n 29775506215000,\n 29894456340000,\n 30010811950000,\n 30130387520000,\n 30247354125000,\n 30367556780000,\n 30485135980000,\n 30605967360000,\n 30724160755000,\n 30845622500000,\n 30964431690000,\n 31086525440000,\n 31205952025000,\n 31328679420000,\n 31448725000000,\n 31572087680000,\n 31695772500000,\n 31816753460000,\n 31941076035000,\n 32062680000000,\n 32187641970000,\n 32309870540000,\n 32435473545000,\n 32558328320000,\n 32684574000000,\n 32808056580000,\n 32934946575000,\n 33059058560000,\n 33186594510000,\n 33311337500000,\n 33439521045000,\n 33564896640000,\n 33693729420000,\n 33819739220000,\n 33949222875000,\n 34075868480000,\n 34206004650000,\n 34333287660000,\n 34464077985000,\n 34592000000000,\n 34723446120000,\n 34852008740000,\n 34984112295000,\n 35113317120000,\n 35246079750000,\n 35375928380000,\n 35509351725000,\n 35639845760000,\n 35773931460000,\n 35905072500000,\n 36039822195000,\n 36171611840000,\n 36307027170000,\n 36442780000000,\n 36575549625000,\n 36711970560000,\n 36845392800000,\n 36982483480000,\n 37116559935000,\n 37254322000000,\n 37389054270000,\n 37527489360000,\n 37662879045000,\n 37801988800000,\n 37938037500000,\n 38077823560000,\n 38214532875000,\n 38354996880000,\n 38492368410000,\n 38633512000000,\n 38771547345000,\n 38913372160000,\n 39052072920000,\n 39194580600000,\n 39333948375000,\n 39477140560000,\n 39617176950000,\n 39761055280000,\n 39901761885000,\n 40046328000000,\n 40187706420000,\n 40332961960000,\n 40475013795000,\n 40620960400000,\n 40763687250000,\n 40910326560000,\n 41053730025000,\n 41201063680000,\n 41345145360000,\n 41493175000000,\n 41641557500000,\n 41786663760000,\n 41935744715000,\n 42081533200000,\n 42231314250000,\n 42377786560000,\n 42528269345000,\n 42675427080000,\n 42826613240000,\n 42974458000000,\n 43126349175000,\n 43274882560000,\n 43427480390000,\n 43576704000000,\n 43730010125000,\n 43879925560000,\n 44033941620000,\n 44184550480000,\n 44339278115000,\n 44490582000000,\n 44646022850000,\n 44798023360000,\n 44954179065000,\n 45106877800000,\n 45263750000000,\n 45417148560000,\n 45574738895000,\n 45728838880000,\n 45887148990000,\n 46041952000000,\n 46200983525000,\n 46356491160000,\n 46516245740000,\n 46672459600000,\n 46832938875000,\n 46989860560000,\n 47151066170000,\n 47312640000000,\n 47470630865000,\n 47632933500000,\n 47791636200000,\n 47954669280000,\n 48114085415000,\n 48277850580000,\n 48437981750000,\n 48602480640000,\n 48763328445000,\n 48928562700000,\n 49090128740000,\n 49256100000000,\n 49418385875000,\n 49585095780000,\n 49748103090000,\n 49915553280000,\n 50079283625000,\n 50247475740000,\n 50411930720000,\n 50580866400000,\n 50746047615000,\n 50915728500000,\n 51081637550000,\n 51252065280000,\n 51418703765000,\n 51589879980000,\n 51757249500000,\n 51929175840000,\n 52097277995000,\n 52269956100000,\n 52438792490000,\n 52612224000000,\n 52781796225000,\n 52955982780000,\n 53126292440000,\n 53301235680000,\n 53476562500000,\n 53647985940000,\n 53824071915000,\n 53996236800000,\n 54173083570000,\n 54345991500000,\n 54523600705000,\n 54697253280000,\n 54875626560000,\n 55050025380000,\n 55229164375000,\n 55404311040000,\n 55584217390000,\n 55760113500000,\n 55940788845000,\n 56117436000000,\n 56298881980000,\n 56476281780000,\n 56658500035000,\n 56836654080000,\n 57019646250000,\n 57198556140000,\n 57382323865000,\n 57561991200000,\n 57746536120000,\n 57926962500000,\n 58112286255000,\n 58293473280000,\n 58479577510000,\n 58661526780000,\n 58848413125000,\n 59031126240000,\n 59218796340000,\n 59402274900000,\n 59590730395000,\n 59774976000000,\n 59964218530000,\n 60153860000000,\n 60339263985000,\n 60529694960000,\n 60715870000000,\n 60907092120000,\n 61094039815000,\n 61286054720000,\n 61473776670000,\n 61666586000000,\n 61855083805000,\n 62048689200000,\n 62237964460000,\n 62432367560000,\n 62622421875000,\n 62817624320000,\n 63008459290000,\n 63204462720000,\n 63396079945000,\n 63592886000000,\n 63785287080000,\n 63982897400000,\n 64176083935000,\n 64374500160000,\n 64568473750000,\n 64767697520000,\n 64962459765000,\n 65162492720000,\n 65358045220000,\n 65558889000000,\n 65755233355000,\n 65956889600000,\n 66154027410000,\n 66356497760000,\n 66554430625000,\n 66757716720000,\n 66956446240000,\n 67160549720000,\n 67365067500000,\n 67565000000000,\n ...]"
     },
     "execution_count": 134,
     "metadata": {},
     "output_type": "execute_result"
    }
   ],
   "source": [
    "class_run_apx"
   ],
   "metadata": {
    "collapsed": false,
    "pycharm": {
     "name": "#%%\n"
    }
   }
  },
  {
   "cell_type": "code",
   "execution_count": 135,
   "outputs": [],
   "source": [
    "quantum_run_apx = list()\n",
    "div=list()\n",
    "for i in range(0, j, 1):\n",
    "    quantum_run_apx.append(k[i] * 2 * np.sqrt(m[i])*(1/0.1) * (3+i) * np.log10(1/0.1)**2 * np.log10(n[i]*m[i]) *np.log10(6*k[i]*m[i]/0.1)**2)\n",
    "    div.append(quantum_run_apx[i]/class_run_apx[i])"
   ],
   "metadata": {
    "collapsed": false,
    "pycharm": {
     "name": "#%%\n"
    }
   }
  },
  {
   "cell_type": "code",
   "execution_count": 136,
   "outputs": [
    {
     "data": {
      "text/plain": "<Figure size 640x480 with 1 Axes>",
      "image/png": "[encoded data removed]"
     },
     "metadata": {},
     "output_type": "display_data"
    }
   ],
   "source": [
    "from matplotlib import pyplot as plt\n",
    "\n",
    "plt.plot(n, quantum_run_apx, label=\"quantum\")\n",
    "plt.plot(n, class_run_apx, label=\"classical\")\n",
    "plt.legend()\n",
    "plt.show()"
   ],
   "metadata": {
    "collapsed": false,
    "pycharm": {
     "name": "#%%\n"
    }
   }
  },
  {
   "cell_type": "code",
   "execution_count": 137,
   "outputs": [
    {
     "data": {
      "text/plain": "0.9987226610102251"
     },
     "execution_count": 137,
     "metadata": {},
     "output_type": "execute_result"
    }
   ],
   "source": [
    "div[-1]"
   ],
   "metadata": {
    "collapsed": false,
    "pycharm": {
     "name": "#%%\n"
    }
   }
  }
 ],
 "metadata": {
  "kernelspec": {
   "display_name": "Python 3",
   "language": "python",
   "name": "python3"
  },
  "language_info": {
   "codemirror_mode": {
    "name": "ipython",
    "version": 2
   },
   "file_extension": ".py",
   "mimetype": "text/x-python",
   "name": "python",
   "nbconvert_exporter": "python",
   "pygments_lexer": "ipython2",
   "version": "2.7.6"
  }
 },
 "nbformat": 4,
 "nbformat_minor": 0
}